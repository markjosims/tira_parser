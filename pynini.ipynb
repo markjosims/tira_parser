{
 "cells": [
  {
   "cell_type": "code",
   "execution_count": 101,
   "id": "c1509b52",
   "metadata": {},
   "outputs": [],
   "source": [
    "import pynini\n",
    "from pynini.lib import paradigms, features, rewrite, pynutil"
   ]
  },
  {
   "cell_type": "code",
   "execution_count": 102,
   "id": "fa79173b",
   "metadata": {},
   "outputs": [
    {
     "data": {
      "text/plain": [
       "<SymbolTable 'Tira phones' at 0x103cc3e70>"
      ]
     },
     "execution_count": 102,
     "metadata": {},
     "output_type": "execute_result"
    }
   ],
   "source": [
    "tira_consonants = [\n",
    "    'm', 'n',      'ɲ', 'ŋ',\n",
    "    'p', 't̪', 't', 'c', 'k',\n",
    "    'b', 'd̪', 'd', 'ɟ', 'g',\n",
    "              's',\n",
    "    'v', 'ð',\n",
    "    'w',      'l'  'j',\n",
    "         'r', 'ɾ', 'ɽ',\n",
    "]\n",
    "\n",
    "tira_vowels = [\n",
    "    'i',      'u',\n",
    "    'ɪ',      'ʊ',\n",
    "    'e', 'ə', 'o',\n",
    "    'ɛ', 'ɜ', 'ɔ',\n",
    "         'a',\n",
    "]\n",
    "\n",
    "high_tone = '\\u0301'\n",
    "low_tone = '\\u0300'\n",
    "fall_tone = '\\u0306'\n",
    "rise_tone = '\\u030c'\n",
    "tira_tones = [high_tone, low_tone, fall_tone, rise_tone]\n",
    "\n",
    "tira_symbol_table = pynini.SymbolTable(name=\"Tira phones\")\n",
    "for phone in tira_consonants+tira_vowels+tira_tones:\n",
    "    tira_symbol_table.add_symbol(phone)\n",
    "tira_symbol_table"
   ]
  },
  {
   "cell_type": "code",
   "execution_count": 103,
   "id": "2d30980a",
   "metadata": {},
   "outputs": [],
   "source": [
    "C = pynini.union(*tira_consonants).optimize()\n",
    "V = pynini.union(*tira_vowels).optimize()\n",
    "T = pynini.union(*tira_tones).optimize()\n",
    "SigmaStar = pynini.union(C,V,T).closure().optimize()"
   ]
  },
  {
   "cell_type": "code",
   "execution_count": 104,
   "id": "8fcd948a",
   "metadata": {},
   "outputs": [],
   "source": [
    "def print_forms(stem: str, paradigm: paradigms.Paradigm):\n",
    "    lattice = rewrite.rewrite_lattice(\n",
    "        stem,\n",
    "        paradigm.stems_to_forms @ paradigm.feature_label_rewriter\n",
    "    )\n",
    "    for wordform in rewrite.lattice_to_strings(lattice):\n",
    "        print(wordform)"
   ]
  },
  {
   "cell_type": "code",
   "execution_count": 105,
   "id": "67e4e899",
   "metadata": {},
   "outputs": [],
   "source": [
    "verb_roots = [\n",
    "    \"vɛð\",\n",
    "    \"mɛð\",\n",
    "    \"ap\",\n",
    "    \"ad\",\n",
    "]\n",
    "stem = paradigms.make_byte_star_except_boundary()\n",
    "class_prefixes = [\n",
    "    \"j\",\n",
    "    \"g\",\n",
    "    \"t̪\",\n",
    "    \"ð\",\n",
    "    \"n\",\n",
    "    \"ɲ\",\n",
    "    \"ŋ\",\n",
    "    \"r\",\n",
    "    \"l\",\n",
    "]"
   ]
  },
  {
   "cell_type": "code",
   "execution_count": 106,
   "id": "824a58bb",
   "metadata": {},
   "outputs": [],
   "source": [
    "tam = features.Feature(\n",
    "    \"tam\",\n",
    "    \"imperfective\",\n",
    "    \"perfective\",\n",
    "    \"dependent\",\n",
    "    \"infinitive\",\n",
    "    \"imperative\"\n",
    ")\n",
    "deixis = features.Feature(\"deixis\", \"ventive\", \"itive\")\n",
    "class_agree = features.Feature(\"class\", *class_prefixes)\n",
    "\n",
    "inflected_verb = features.Category(tam, deixis, class_agree)"
   ]
  },
  {
   "cell_type": "code",
   "execution_count": 107,
   "id": "36a2e893",
   "metadata": {},
   "outputs": [],
   "source": [
    "VO_VENT_FV = lambda stem: paradigms.suffix(\"+ɔ́\", stem)\n",
    "\n",
    "OO_IT_IPFV_FV = lambda stem: paradigms.suffix(\"+ɔ̀\", stem)\n",
    "AO_IT_IPFV_FV = lambda stem: paradigms.suffix(\"+à\", stem)\n",
    "VO_IT_PFV_FV = lambda stem: paradigms.suffix(\"+ɛ̀\", stem)"
   ]
  },
  {
   "cell_type": "code",
   "execution_count": 108,
   "id": "1692bca9",
   "metadata": {},
   "outputs": [
    {
     "data": {
      "text/plain": [
       "'vɛ́ð+ɛ̀'"
      ]
     },
     "execution_count": 108,
     "metadata": {},
     "output_type": "execute_result"
    }
   ],
   "source": [
    "itive_d_stem = C.closure() + V + pynutil.insert(high_tone) + stem.closure()\n",
    "ventive_d_stem = C.closure() + V + pynutil.insert(low_tone) + stem.closure()\n",
    "itive_d_stem = itive_d_stem.optimize()\n",
    "ventive_d_stem = ventive_d_stem.optimize()\n",
    "\n",
    "ipfv_aux = paradigms.prefix(\"á+\", stem.closure())\n",
    "pfv_it_aux = paradigms.prefix(\"à+\", stem.closure())\n",
    "pfv_vent_schwa = paradigms.prefix(\"ə̀+\", stem.closure())\n",
    "\n",
    "VO_IT_PFV_FV(verb_roots[0]@itive_d_stem).string()"
   ]
  },
  {
   "cell_type": "code",
   "execution_count": 109,
   "id": "13186e51",
   "metadata": {},
   "outputs": [
    {
     "data": {
      "text/plain": [
       "'vɔ̀ðɔ́'"
      ]
     },
     "execution_count": 109,
     "metadata": {},
     "output_type": "execute_result"
    }
   ],
   "source": [
    "HarmonyTarget = pynini.union(\"ɛ\", \"a\", \"ɜ\").optimize()\n",
    "HarmonyChange = pynini.cross(HarmonyTarget, \"ɔ\")\n",
    "HarmonyTrigger = \"ɔ\"\n",
    "rounding_harmony = pynini.cdrewrite(HarmonyChange, SigmaStar, SigmaStar+HarmonyTrigger, SigmaStar)\n",
    "(\"vɛ̀ðɔ́\" @ rounding_harmony).string()"
   ]
  },
  {
   "cell_type": "code",
   "execution_count": 110,
   "id": "79b9a9af",
   "metadata": {},
   "outputs": [],
   "source": [
    "ipfv_it = features.FeatureVector(inflected_verb, \"tam=imperfective\", \"deixis=itive\")\n",
    "ipfv_vent = features.FeatureVector(inflected_verb, \"tam=imperfective\", \"deixis=ventive\")\n",
    "pfv_it = features.FeatureVector(inflected_verb, \"tam=perfective\", \"deixis=itive\")\n",
    "pfv_vent = features.FeatureVector(inflected_verb, \"tam=perfective\", \"deixis=ventive\")\n",
    "\n",
    "AO_IPFV_SLOTS = [\n",
    "    (AO_IT_IPFV_FV(itive_d_stem@ipfv_aux), ipfv_it),\n",
    "    (VO_VENT_FV(ventive_d_stem@ipfv_aux), ipfv_vent),\n",
    "]\n",
    "OO_IPFV_SLOTS = [\n",
    "    (OO_IT_IPFV_FV(itive_d_stem@ipfv_aux), ipfv_it),\n",
    "    (VO_VENT_FV(ventive_d_stem@ipfv_aux), ipfv_vent),\n",
    "]\n",
    "VO_PFV_SLOTS = [\n",
    "    (VO_IT_PFV_FV(itive_d_stem@pfv_it_aux), pfv_it),\n",
    "    (VO_VENT_FV(ventive_d_stem@pfv_vent_schwa), pfv_vent)\n",
    "]\n",
    "\n",
    "def add_class_prefixes_to_slots(slot_list):\n",
    "    slots_w_class_prefixes = []\n",
    "    for stem, feature_vector in slot_list:\n",
    "        category = feature_vector.category\n",
    "        feature_values = [f\"{feature}={value}\" for feature, value in feature_vector.values.items()]\n",
    "        for prefix in class_prefixes:\n",
    "            features_with_class = features.FeatureVector(category, f\"class={prefix}\", *feature_values)\n",
    "            prefixed_verb = paradigms.prefix(f\"{prefix}+\", stem)\n",
    "            slots_w_class_prefixes.append((prefixed_verb, features_with_class))\n",
    "    return slots_w_class_prefixes\n",
    "\n",
    "AO_IPFV_SLOTS = add_class_prefixes_to_slots(AO_IPFV_SLOTS)\n",
    "OO_IPFV_SLOTS = add_class_prefixes_to_slots(OO_IPFV_SLOTS)\n",
    "VO_PFV_SLOTS = add_class_prefixes_to_slots(VO_PFV_SLOTS)"
   ]
  },
  {
   "cell_type": "code",
   "execution_count": 111,
   "id": "4a07f537",
   "metadata": {},
   "outputs": [
    {
     "name": "stdout",
     "output_type": "stream",
     "text": [
      "ɲ+ə̀+vɛ̀ð+ɔ́[class=ɲ][deixis=ventive][tam=perfective]\n",
      "ɲ+á+vɛ́ð+à[class=ɲ][deixis=itive][tam=imperfective]\n",
      "ɲ+á+vɛ̀ð+ɔ́[class=ɲ][deixis=ventive][tam=imperfective]\n",
      "ɲ+à+vɛ́ð+ɛ̀[class=ɲ][deixis=itive][tam=perfective]\n",
      "ŋ+ə̀+vɛ̀ð+ɔ́[class=ŋ][deixis=ventive][tam=perfective]\n",
      "ŋ+á+vɛ́ð+à[class=ŋ][deixis=itive][tam=imperfective]\n",
      "ŋ+á+vɛ̀ð+ɔ́[class=ŋ][deixis=ventive][tam=imperfective]\n",
      "ŋ+à+vɛ́ð+ɛ̀[class=ŋ][deixis=itive][tam=perfective]\n",
      "ð+ə̀+vɛ̀ð+ɔ́[class=ð][deixis=ventive][tam=perfective]\n",
      "ð+á+vɛ́ð+à[class=ð][deixis=itive][tam=imperfective]\n",
      "ð+á+vɛ̀ð+ɔ́[class=ð][deixis=ventive][tam=imperfective]\n",
      "ð+à+vɛ́ð+ɛ̀[class=ð][deixis=itive][tam=perfective]\n",
      "t̪+ə̀+vɛ̀ð+ɔ́[class=t̪][deixis=ventive][tam=perfective]\n",
      "t̪+á+vɛ́ð+à[class=t̪][deixis=itive][tam=imperfective]\n",
      "t̪+á+vɛ̀ð+ɔ́[class=t̪][deixis=ventive][tam=imperfective]\n",
      "t̪+à+vɛ́ð+ɛ̀[class=t̪][deixis=itive][tam=perfective]\n",
      "r+ə̀+vɛ̀ð+ɔ́[class=r][deixis=ventive][tam=perfective]\n",
      "r+á+vɛ́ð+à[class=r][deixis=itive][tam=imperfective]\n",
      "r+á+vɛ̀ð+ɔ́[class=r][deixis=ventive][tam=imperfective]\n",
      "r+à+vɛ́ð+ɛ̀[class=r][deixis=itive][tam=perfective]\n",
      "n+ə̀+vɛ̀ð+ɔ́[class=n][deixis=ventive][tam=perfective]\n",
      "n+á+vɛ́ð+à[class=n][deixis=itive][tam=imperfective]\n",
      "n+á+vɛ̀ð+ɔ́[class=n][deixis=ventive][tam=imperfective]\n",
      "n+à+vɛ́ð+ɛ̀[class=n][deixis=itive][tam=perfective]\n",
      "l+ə̀+vɛ̀ð+ɔ́[class=l][deixis=ventive][tam=perfective]\n",
      "l+á+vɛ́ð+à[class=l][deixis=itive][tam=imperfective]\n",
      "l+á+vɛ̀ð+ɔ́[class=l][deixis=ventive][tam=imperfective]\n",
      "l+à+vɛ́ð+ɛ̀[class=l][deixis=itive][tam=perfective]\n",
      "j+ə̀+vɛ̀ð+ɔ́[class=j][deixis=ventive][tam=perfective]\n",
      "j+á+vɛ́ð+à[class=j][deixis=itive][tam=imperfective]\n",
      "j+á+vɛ̀ð+ɔ́[class=j][deixis=ventive][tam=imperfective]\n",
      "j+à+vɛ́ð+ɛ̀[class=j][deixis=itive][tam=perfective]\n",
      "g+ə̀+vɛ̀ð+ɔ́[class=g][deixis=ventive][tam=perfective]\n",
      "g+á+vɛ́ð+à[class=g][deixis=itive][tam=imperfective]\n",
      "g+á+vɛ̀ð+ɔ́[class=g][deixis=ventive][tam=imperfective]\n",
      "g+à+vɛ́ð+ɛ̀[class=g][deixis=itive][tam=perfective]\n"
     ]
    }
   ],
   "source": [
    "lemma_verb_features = features.FeatureVector(inflected_verb, \"tam=imperfective\", \"deixis=itive\", \"class=g\")\n",
    "AO = paradigms.Paradigm(\n",
    "    category=inflected_verb,\n",
    "    name=\"AO FV class indicative forms\",\n",
    "    slots=AO_IPFV_SLOTS+VO_PFV_SLOTS,\n",
    "    lemma_feature_vector=lemma_verb_features,\n",
    "    stems=verb_roots,\n",
    ")\n",
    "print_forms(verb_roots[0], AO)"
   ]
  },
  {
   "cell_type": "code",
   "execution_count": 130,
   "id": "6414eee5",
   "metadata": {},
   "outputs": [
    {
     "data": {
      "text/plain": [
       "[('gávɛ́ðà',\n",
       "  FeatureVector(Category(Feature('class', 'j', 'g', 't̪', 'ð', 'n', 'ɲ', 'ŋ', 'r', 'l'), Feature('deixis', 'ventive', 'itive'), Feature('tam', 'imperfective', 'perfective', 'dependent', 'infinitive', 'imperative')), 'class=g', 'deixis=ventive', 'tam=perfective'))]"
      ]
     },
     "execution_count": 130,
     "metadata": {},
     "output_type": "execute_result"
    }
   ],
   "source": [
    "# lattice = rewrite.rewrite_lattice(\n",
    "#     \"vɛð\",\n",
    "#     AO.stems_to_forms\n",
    "# )\n",
    "# for wordform in rewrite.lattice_to_strings(lattice):\n",
    "#     print(wordform)\n",
    "inflected_verb_str = \"gə̀vɛ̀ðɔ́\"\n",
    "AO.lemmatize(inflected_verb_str)\n",
    "# (inflected_verb_str @ AO.lemmatizer).string()"
   ]
  },
  {
   "cell_type": "code",
   "execution_count": null,
   "id": "06b13f01",
   "metadata": {},
   "outputs": [],
   "source": []
  }
 ],
 "metadata": {
  "kernelspec": {
   "display_name": "tira_parser",
   "language": "python",
   "name": "python3"
  },
  "language_info": {
   "codemirror_mode": {
    "name": "ipython",
    "version": 3
   },
   "file_extension": ".py",
   "mimetype": "text/x-python",
   "name": "python",
   "nbconvert_exporter": "python",
   "pygments_lexer": "ipython3",
   "version": "3.9.22"
  }
 },
 "nbformat": 4,
 "nbformat_minor": 5
}
